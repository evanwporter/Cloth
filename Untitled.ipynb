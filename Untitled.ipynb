{
 "cells": [
  {
   "cell_type": "code",
   "execution_count": 1,
   "id": "ce0c0410-c8b2-4dd3-beb7-becc633611e7",
   "metadata": {},
   "outputs": [],
   "source": [
    "import numpy as np\n",
    "# from sloth import DataFrame\n",
    "import pandas as pd\n",
    "# import Sloth as sl"
   ]
  },
  {
   "cell_type": "code",
   "execution_count": 15,
   "id": "7c7d0962-b3c6-411f-a8e7-b568404e3b41",
   "metadata": {},
   "outputs": [],
   "source": [
    "values = np.array([\n",
    "    [1.0, 2.0, 3.0],\n",
    "    [4.0, 5.0, 6.0],\n",
    "    [7.0, 8.0, 9.0]\n",
    "])\n",
    "\n",
    "index_np = np.array([\"row1\", \"row23\", \"row3\"])\n",
    "columns_np = np.array([\"col1\", \"col2\", \"col3\"])\n",
    "\n",
    "# Create DataFrame with NumPy arrays\n",
    "# df = DataFrame(values, index_np, columns_np)\n",
    "\n",
    "pdf = pd.DataFrame(values, index_np, columns_np)"
   ]
  },
  {
   "cell_type": "code",
   "execution_count": 16,
   "id": "809dcd21-ec88-4e10-87e1-617aaba7bd9f",
   "metadata": {},
   "outputs": [
    {
     "name": "stdout",
     "output_type": "stream",
     "text": [
      "       col1  col2  col3\n",
      "row1    1.0   2.0   3.0\n",
      "row23   4.0   5.0   6.0\n",
      "row3    7.0   8.0   9.0\n"
     ]
    }
   ],
   "source": [
    "print(pdf)"
   ]
  },
  {
   "cell_type": "code",
   "execution_count": 11,
   "id": "3e0aae31-769f-4525-8efe-e7b1e7b98809",
   "metadata": {},
   "outputs": [
    {
     "name": "stdout",
     "output_type": "stream",
     "text": [
      "6.24 μs ± 152 ns per loop (mean ± std. dev. of 7 runs, 100,000 loops each)\n"
     ]
    }
   ],
   "source": [
    "%timeit values.sum(axis=1)"
   ]
  },
  {
   "cell_type": "code",
   "execution_count": null,
   "id": "886deb9e-e149-464a-b654-22756f270ee0",
   "metadata": {},
   "outputs": [],
   "source": []
  },
  {
   "cell_type": "code",
   "execution_count": null,
   "id": "ac1623f8-74ec-4808-887f-ca3bcf9a733c",
   "metadata": {},
   "outputs": [],
   "source": [
    "%timeit pdf.sum(axis=1)"
   ]
  },
  {
   "cell_type": "code",
   "execution_count": null,
   "id": "76bac5c7-1177-45bd-8414-fd59115105be",
   "metadata": {},
   "outputs": [],
   "source": []
  },
  {
   "cell_type": "code",
   "execution_count": null,
   "id": "a548983d-c6b7-434f-b14c-ae7070c89e50",
   "metadata": {},
   "outputs": [],
   "source": []
  },
  {
   "cell_type": "code",
   "execution_count": null,
   "id": "4d996495-cd26-4866-83cd-5837010bc17c",
   "metadata": {},
   "outputs": [],
   "source": [
    "my_slice = cloth.slice(0, 10, 2)"
   ]
  },
  {
   "cell_type": "code",
   "execution_count": null,
   "id": "b7041019-2261-4eb7-bb18-6b2b14fae6b5",
   "metadata": {},
   "outputs": [],
   "source": [
    "cloth.ColumnIndex(keys).index"
   ]
  },
  {
   "cell_type": "code",
   "execution_count": null,
   "id": "d9d3c59c-acf0-4cee-bd82-ff8df5d4386d",
   "metadata": {},
   "outputs": [],
   "source": [
    "cloth.ObjectIndex(keys).index"
   ]
  },
  {
   "cell_type": "code",
   "execution_count": 8,
   "id": "98577394-d8c0-4058-bc46-f9c68888a953",
   "metadata": {},
   "outputs": [
    {
     "data": {
      "text/plain": [
       "item1    0\n",
       "item2    1\n",
       "item3    2"
      ]
     },
     "execution_count": 8,
     "metadata": {},
     "output_type": "execute_result"
    }
   ],
   "source": [
    "import cloth\n",
    "import numpy as np\n",
    "\n",
    "index_map = {\"item1\": 0, \"item2\": 1, \"item3\": 2}\n",
    "keys = [\"item1\", \"item2\", \"item3\"]\n",
    "s = cloth.Series(np.array([0, 1, 2]), keys)\n",
    "s"
   ]
  },
  {
   "cell_type": "code",
   "execution_count": 9,
   "id": "9d138a4c-0782-4f3f-8f6a-0f28d18fc742",
   "metadata": {},
   "outputs": [
    {
     "data": {
      "text/plain": [
       "item1    0\n",
       "item2    1"
      ]
     },
     "execution_count": 9,
     "metadata": {},
     "output_type": "execute_result"
    }
   ],
   "source": [
    "t = s.iloc[0:2]\n",
    "t"
   ]
  },
  {
   "cell_type": "code",
   "execution_count": 10,
   "id": "bb4c95d4-5bb2-40eb-bae8-2247aa1ba973",
   "metadata": {},
   "outputs": [
    {
     "data": {
      "text/plain": [
       "2"
      ]
     },
     "execution_count": 10,
     "metadata": {},
     "output_type": "execute_result"
    }
   ],
   "source": [
    "t.mask.length"
   ]
  },
  {
   "cell_type": "code",
   "execution_count": 11,
   "id": "288d47d6-fedf-42ea-a839-db8408ffc488",
   "metadata": {},
   "outputs": [
    {
     "data": {
      "text/plain": [
       "2"
      ]
     },
     "execution_count": 11,
     "metadata": {},
     "output_type": "execute_result"
    }
   ],
   "source": [
    "t.length()"
   ]
  },
  {
   "cell_type": "code",
   "execution_count": 12,
   "id": "1b6653b9-49b2-4020-a748-88cac1623391",
   "metadata": {},
   "outputs": [
    {
     "data": {
      "text/plain": [
       "3"
      ]
     },
     "execution_count": 12,
     "metadata": {},
     "output_type": "execute_result"
    }
   ],
   "source": [
    "s.mask.length"
   ]
  },
  {
   "cell_type": "code",
   "execution_count": 16,
   "id": "e1ba5116-409e-40d1-838e-e1cc78ccd0a6",
   "metadata": {},
   "outputs": [
    {
     "data": {
      "text/plain": [
       "array([0., 1.])"
      ]
     },
     "execution_count": 16,
     "metadata": {},
     "output_type": "execute_result"
    }
   ],
   "source": [
    "t.values"
   ]
  },
  {
   "cell_type": "code",
   "execution_count": 17,
   "id": "2d0de342-59f4-4ecb-b18f-49947e644232",
   "metadata": {},
   "outputs": [
    {
     "data": {
      "text/plain": [
       "slice(0, 2, 1)"
      ]
     },
     "execution_count": 17,
     "metadata": {},
     "output_type": "execute_result"
    }
   ],
   "source": [
    "t.mask"
   ]
  },
  {
   "cell_type": "code",
   "execution_count": 18,
   "id": "db5d13d2-7749-4690-ba41-5919a790655b",
   "metadata": {},
   "outputs": [
    {
     "data": {
      "text/plain": [
       "2"
      ]
     },
     "execution_count": 18,
     "metadata": {},
     "output_type": "execute_result"
    }
   ],
   "source": [
    "t.mask.stop"
   ]
  },
  {
   "cell_type": "code",
   "execution_count": 14,
   "id": "7d81a940-de40-4734-8bf9-bd3c4df3d629",
   "metadata": {},
   "outputs": [
    {
     "data": {
      "text/plain": [
       "item1    0\n",
       "item2    1"
      ]
     },
     "execution_count": 14,
     "metadata": {},
     "output_type": "execute_result"
    }
   ],
   "source": [
    "s.head(2)"
   ]
  },
  {
   "cell_type": "code",
   "execution_count": 1,
   "id": "1fdcbd68-260c-4656-a804-6b7ac765e1f6",
   "metadata": {},
   "outputs": [],
   "source": [
    "import cloth\n",
    "import numpy as np\n",
    "data = np.array([\n",
    "    [1.0, 2.0, 3.0],\n",
    "    [4.0, 5.0, 6.0],\n",
    "    [7.0, 8.0, 9.0]\n",
    "])\n",
    "\n",
    "index = ['row1', 'row24', 'row3']\n",
    "columns = ['col1', 'col2', 'col3']"
   ]
  },
  {
   "cell_type": "code",
   "execution_count": 2,
   "id": "cd9f5fc9-95cc-467a-85e7-bad658f09097",
   "metadata": {},
   "outputs": [
    {
     "data": {
      "text/plain": [
       "array([[1., 2., 3.],\n",
       "       [4., 5., 6.],\n",
       "       [7., 8., 9.]])"
      ]
     },
     "execution_count": 2,
     "metadata": {},
     "output_type": "execute_result"
    }
   ],
   "source": [
    "df = cloth.DataFrame(data, index, columns)\n",
    "df.values"
   ]
  },
  {
   "cell_type": "code",
   "execution_count": 3,
   "id": "c60e9beb-9702-43dc-b6ac-bde93e83a5d0",
   "metadata": {},
   "outputs": [
    {
     "data": {
      "text/plain": [
       "         col1  col2  col3\n",
       "  row24  4.00  5.00  6.00\n",
       "   row3  7.00  8.00  9.00"
      ]
     },
     "execution_count": 3,
     "metadata": {},
     "output_type": "execute_result"
    }
   ],
   "source": [
    "df.iloc[1:]"
   ]
  },
  {
   "cell_type": "code",
   "execution_count": 4,
   "id": "e8064824-fb61-4106-b47b-e8198478f1ba",
   "metadata": {},
   "outputs": [
    {
     "data": {
      "text/plain": [
       "array([1., 2., 3.])"
      ]
     },
     "execution_count": 4,
     "metadata": {},
     "output_type": "execute_result"
    }
   ],
   "source": [
    "df.iloc[0].values"
   ]
  },
  {
   "cell_type": "code",
   "execution_count": 5,
   "id": "5c443c1e-dff8-4645-966c-339245f9f3ff",
   "metadata": {},
   "outputs": [
    {
     "data": {
      "text/plain": [
       "row1    1\n",
       "row24    4\n",
       "row3    7"
      ]
     },
     "execution_count": 5,
     "metadata": {},
     "output_type": "execute_result"
    }
   ],
   "source": [
    "df[\"col1\"]"
   ]
  },
  {
   "cell_type": "code",
   "execution_count": 6,
   "id": "bc15a313-c5ba-418a-aa18-82bdbb3afe62",
   "metadata": {},
   "outputs": [
    {
     "data": {
      "text/plain": [
       "row1    1\n",
       "row24    4\n",
       "row3    7"
      ]
     },
     "execution_count": 6,
     "metadata": {},
     "output_type": "execute_result"
    }
   ],
   "source": [
    "df.col1"
   ]
  },
  {
   "cell_type": "code",
   "execution_count": 7,
   "id": "ad9b5888-a6b0-41c0-b148-74de0e28bfff",
   "metadata": {},
   "outputs": [
    {
     "data": {
      "text/plain": [
       "         col1  col2  col3\n",
       "  row24  4.00  5.00  6.00\n",
       "   row3  7.00  8.00  9.00"
      ]
     },
     "execution_count": 7,
     "metadata": {},
     "output_type": "execute_result"
    }
   ],
   "source": [
    "df.tail(2) "
   ]
  },
  {
   "cell_type": "code",
   "execution_count": null,
   "id": "76ddc1df-4e5f-4a1a-a867-97f0f4de7ea5",
   "metadata": {},
   "outputs": [],
   "source": []
  }
 ],
 "metadata": {
  "kernelspec": {
   "display_name": "Python 3 (ipykernel)",
   "language": "python",
   "name": "python3"
  },
  "language_info": {
   "codemirror_mode": {
    "name": "ipython",
    "version": 3
   },
   "file_extension": ".py",
   "mimetype": "text/x-python",
   "name": "python",
   "nbconvert_exporter": "python",
   "pygments_lexer": "ipython3",
   "version": "3.12.3"
  }
 },
 "nbformat": 4,
 "nbformat_minor": 5
}

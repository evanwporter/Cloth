{
 "cells": [
  {
   "cell_type": "code",
   "execution_count": 1,
   "id": "ce0c0410-c8b2-4dd3-beb7-becc633611e7",
   "metadata": {},
   "outputs": [],
   "source": [
    "import numpy as np\n",
    "from sloth import DataFrame\n",
    "import pandas as pd\n",
    "import polars as pl"
   ]
  },
  {
   "cell_type": "code",
   "execution_count": 26,
   "id": "7c7d0962-b3c6-411f-a8e7-b568404e3b41",
   "metadata": {},
   "outputs": [],
   "source": [
    "# values = np.array([\n",
    "#     [1.0, 2.0, 3.0],\n",
    "#     [4.0, 5.0, 6.0],\n",
    "#     [7.0, 8.0, 9.0]\n",
    "# ])\n",
    "\n",
    "l = 30\n",
    "\n",
    "values = np.random.randint(0, 100, size=(l, l))\n",
    "\n",
    "# index_np = np.array([\"row1\", \"row2\", \"row3\"])\n",
    "# columns_np = np.array([\"col1\", \"col2\", \"col3\"])\n",
    "\n",
    "index = np.arange(0,l).astype(str)\n",
    "columns = np.arange(0,l).astype(str)\n",
    "\n",
    "# Create DataFrame with NumPy arrays\n",
    "df = DataFrame(values, index, columns)\n",
    "\n",
    "pdf = pd.DataFrame(values, index, columns)\n",
    "\n",
    "pol = pl.DataFrame(pdf)"
   ]
  },
  {
   "cell_type": "code",
   "execution_count": 27,
   "id": "809dcd21-ec88-4e10-87e1-617aaba7bd9f",
   "metadata": {},
   "outputs": [
    {
     "name": "stdout",
     "output_type": "stream",
     "text": [
      "5.61 μs ± 699 ns per loop (mean ± std. dev. of 7 runs, 100,000 loops each)\n"
     ]
    }
   ],
   "source": [
    "%timeit df.iloc[1:]"
   ]
  },
  {
   "cell_type": "code",
   "execution_count": 28,
   "id": "454df4a7-977d-4d68-8d6a-cf6d0df73075",
   "metadata": {},
   "outputs": [
    {
     "name": "stdout",
     "output_type": "stream",
     "text": [
      "12.4 μs ± 750 ns per loop (mean ± std. dev. of 7 runs, 100,000 loops each)\n"
     ]
    }
   ],
   "source": [
    "%timeit pdf.iloc[1:]"
   ]
  },
  {
   "cell_type": "code",
   "execution_count": 29,
   "id": "f1ff30a1-3b3a-4a2a-bb96-b5983c5ac9f7",
   "metadata": {},
   "outputs": [
    {
     "name": "stdout",
     "output_type": "stream",
     "text": [
      "4.2 μs ± 232 ns per loop (mean ± std. dev. of 7 runs, 100,000 loops each)\n"
     ]
    }
   ],
   "source": [
    "%timeit pol.slice(1,2)"
   ]
  },
  {
   "cell_type": "code",
   "execution_count": 24,
   "id": "c9a4a02d-9b78-4d80-bcc5-20698816942c",
   "metadata": {},
   "outputs": [
    {
     "name": "stdout",
     "output_type": "stream",
     "text": [
      "93.4 μs ± 3.96 μs per loop (mean ± std. dev. of 7 runs, 10,000 loops each)\n"
     ]
    }
   ],
   "source": [
    "%timeit pdf.sum(axis=1)"
   ]
  },
  {
   "cell_type": "code",
   "execution_count": 22,
   "id": "7a4963fa-944f-40e8-a788-c2bcd50d9b5c",
   "metadata": {},
   "outputs": [
    {
     "name": "stdout",
     "output_type": "stream",
     "text": [
      "25.8 μs ± 870 ns per loop (mean ± std. dev. of 7 runs, 10,000 loops each)\n"
     ]
    }
   ],
   "source": [
    "%timeit pol.sum_horizontal()"
   ]
  },
  {
   "cell_type": "code",
   "execution_count": 23,
   "id": "3e0aae31-769f-4525-8efe-e7b1e7b98809",
   "metadata": {},
   "outputs": [
    {
     "name": "stdout",
     "output_type": "stream",
     "text": [
      "2.21 μs ± 79.9 ns per loop (mean ± std. dev. of 7 runs, 100,000 loops each)\n"
     ]
    }
   ],
   "source": [
    "%timeit values.sum(axis=1)"
   ]
  },
  {
   "cell_type": "code",
   "execution_count": 5,
   "id": "886deb9e-e149-464a-b654-22756f270ee0",
   "metadata": {},
   "outputs": [],
   "source": []
  },
  {
   "cell_type": "code",
   "execution_count": 22,
   "id": "ac1623f8-74ec-4808-887f-ca3bcf9a733c",
   "metadata": {},
   "outputs": [
    {
     "name": "stdout",
     "output_type": "stream",
     "text": [
      "3.31 μs ± 200 ns per loop (mean ± std. dev. of 7 runs, 100,000 loops each)\n"
     ]
    }
   ],
   "source": [
    "%timeit df.loc[\"10\"]"
   ]
  },
  {
   "cell_type": "code",
   "execution_count": 19,
   "id": "01f5fbb8-ed41-4b19-b4cd-16e46627739d",
   "metadata": {},
   "outputs": [
    {
     "name": "stdout",
     "output_type": "stream",
     "text": [
      "48.2 μs ± 3.92 μs per loop (mean ± std. dev. of 7 runs, 10,000 loops each)\n"
     ]
    }
   ],
   "source": [
    "%timeit pdf.iloc[10]"
   ]
  },
  {
   "cell_type": "code",
   "execution_count": 20,
   "id": "7d5e6beb-bf01-412c-a768-6cd61f611369",
   "metadata": {},
   "outputs": [
    {
     "name": "stdout",
     "output_type": "stream",
     "text": [
      "824 ns ± 18.4 ns per loop (mean ± std. dev. of 7 runs, 1,000,000 loops each)\n"
     ]
    }
   ],
   "source": [
    "%timeit pol.row(10)"
   ]
  },
  {
   "cell_type": "code",
   "execution_count": null,
   "id": "90b4cb0a-5028-4af7-b9ee-89866e8f1c3d",
   "metadata": {},
   "outputs": [],
   "source": []
  },
  {
   "cell_type": "code",
   "execution_count": 23,
   "id": "e8ba68e4-0bcf-4b9a-a9e1-60585f9e9f9e",
   "metadata": {},
   "outputs": [
    {
     "name": "stdout",
     "output_type": "stream",
     "text": [
      "17.4 μs ± 1.01 μs per loop (mean ± std. dev. of 7 runs, 10,000 loops each)\n"
     ]
    }
   ],
   "source": [
    "%timeit pol.select(\"10\")"
   ]
  },
  {
   "cell_type": "code",
   "execution_count": 25,
   "id": "546f485e-f388-44ad-938a-b643fbe4b06c",
   "metadata": {},
   "outputs": [
    {
     "name": "stdout",
     "output_type": "stream",
     "text": [
      "46.5 μs ± 1.52 μs per loop (mean ± std. dev. of 7 runs, 10,000 loops each)\n"
     ]
    }
   ],
   "source": [
    "%timeit pdf.loc[\"10\"]"
   ]
  },
  {
   "cell_type": "code",
   "execution_count": null,
   "id": "5ac7bdf2-dc87-4f43-8ae8-ea48c65ae014",
   "metadata": {},
   "outputs": [],
   "source": []
  }
 ],
 "metadata": {
  "kernelspec": {
   "display_name": "Python 3 (ipykernel)",
   "language": "python",
   "name": "python3"
  },
  "language_info": {
   "codemirror_mode": {
    "name": "ipython",
    "version": 3
   },
   "file_extension": ".py",
   "mimetype": "text/x-python",
   "name": "python",
   "nbconvert_exporter": "python",
   "pygments_lexer": "ipython3",
   "version": "3.12.3"
  }
 },
 "nbformat": 4,
 "nbformat_minor": 5
}

{
 "cells": [
  {
   "cell_type": "code",
   "execution_count": 1,
   "id": "ce0c0410-c8b2-4dd3-beb7-becc633611e7",
   "metadata": {},
   "outputs": [],
   "source": [
    "import numpy as np\n",
    "from sloth import DataFrame, slice\n",
    "import pandas as pd\n",
    "import polars as pl\n",
    "import Sloth as sl"
   ]
  },
  {
   "cell_type": "code",
   "execution_count": 2,
   "id": "7c7d0962-b3c6-411f-a8e7-b568404e3b41",
   "metadata": {},
   "outputs": [],
   "source": [
    "# values = np.array([\n",
    "#     [1.0, 2.0, 3.0],\n",
    "#     [4.0, 5.0, 6.0],\n",
    "#     [7.0, 8.0, 9.0]\n",
    "# ])\n",
    "\n",
    "l = 30\n",
    "\n",
    "values = np.random.randint(0, 100, size=(l, l))\n",
    "\n",
    "# index_np = np.array([\"row1\", \"row2\", \"row3\"])\n",
    "# columns_np = np.array([\"col1\", \"col2\", \"col3\"])\n",
    "\n",
    "index = np.arange(0,l).astype(str)\n",
    "columns = np.arange(0,l).astype(str)\n",
    "\n",
    "df = DataFrame(values, index, columns)\n",
    "\n",
    "pdf = pd.DataFrame(values, index, columns)\n",
    "\n",
    "pol = pl.DataFrame(pdf)\n",
    "\n",
    "sdf = sl.DataFrame.from_pandas(pdf)"
   ]
  },
  {
   "cell_type": "code",
   "execution_count": 3,
   "id": "23e588ef-1607-4e14-890b-ee28bb223a45",
   "metadata": {},
   "outputs": [
    {
     "data": {
      "text/plain": [
       "<sloth.slice at 0x15ca21c34b0>"
      ]
     },
     "execution_count": 3,
     "metadata": {},
     "output_type": "execute_result"
    }
   ],
   "source": [
    "slice(1, 10, 1)"
   ]
  },
  {
   "cell_type": "code",
   "execution_count": 25,
   "id": "809dcd21-ec88-4e10-87e1-617aaba7bd9f",
   "metadata": {},
   "outputs": [
    {
     "name": "stdout",
     "output_type": "stream",
     "text": [
      "13.4 μs ± 639 ns per loop (mean ± std. dev. of 7 runs, 100,000 loops each)\n"
     ]
    }
   ],
   "source": [
    "%timeit df.iloc[1:10]"
   ]
  },
  {
   "cell_type": "code",
   "execution_count": 22,
   "id": "465d08f9-039f-4076-91bd-563ad8f6ce7d",
   "metadata": {},
   "outputs": [
    {
     "name": "stdout",
     "output_type": "stream",
     "text": [
      "3.84 μs ± 583 ns per loop (mean ± std. dev. of 7 runs, 100,000 loops each)\n"
     ]
    }
   ],
   "source": [
    "%timeit df.sum(0)"
   ]
  },
  {
   "cell_type": "code",
   "execution_count": 23,
   "id": "1786dfb3-3f30-44ca-ba7e-0a67a8c3084f",
   "metadata": {},
   "outputs": [
    {
     "name": "stdout",
     "output_type": "stream",
     "text": [
      "7.08 μs ± 571 ns per loop (mean ± std. dev. of 7 runs, 100,000 loops each)\n"
     ]
    }
   ],
   "source": [
    "%timeit sdf.values.sum()"
   ]
  },
  {
   "cell_type": "code",
   "execution_count": null,
   "id": "454df4a7-977d-4d68-8d6a-cf6d0df73075",
   "metadata": {},
   "outputs": [],
   "source": [
    "%timeit pdf.iloc[1:10]"
   ]
  },
  {
   "cell_type": "code",
   "execution_count": null,
   "id": "f1ff30a1-3b3a-4a2a-bb96-b5983c5ac9f7",
   "metadata": {},
   "outputs": [],
   "source": [
    "%timeit pol.slice(1,9)"
   ]
  },
  {
   "cell_type": "code",
   "execution_count": 8,
   "id": "1e30b3a3-9457-4303-a31c-f461a2f9522e",
   "metadata": {},
   "outputs": [
    {
     "data": {
      "text/plain": [
       "sloth.DataFrameView"
      ]
     },
     "execution_count": 8,
     "metadata": {},
     "output_type": "execute_result"
    }
   ],
   "source": [
    "type(df.iloc[1:10])"
   ]
  },
  {
   "cell_type": "code",
   "execution_count": null,
   "id": "7944c563-275c-458c-8dd2-3009bb5cf480",
   "metadata": {},
   "outputs": [],
   "source": [
    "%timeit sdf.loc[\"9\"]"
   ]
  },
  {
   "cell_type": "code",
   "execution_count": null,
   "id": "dd4918b3-c998-4211-9194-748d00dcdd71",
   "metadata": {},
   "outputs": [],
   "source": [
    "%timeit df.loc[\"9\"]"
   ]
  },
  {
   "cell_type": "code",
   "execution_count": null,
   "id": "ba00a026-4f0c-456d-a4f5-47f8245bd644",
   "metadata": {},
   "outputs": [],
   "source": [
    "df.loc[\"9\"]"
   ]
  },
  {
   "cell_type": "code",
   "execution_count": null,
   "id": "c9a4a02d-9b78-4d80-bcc5-20698816942c",
   "metadata": {},
   "outputs": [],
   "source": [
    "%timeit pdf.sum(axis=1)"
   ]
  },
  {
   "cell_type": "code",
   "execution_count": null,
   "id": "7a4963fa-944f-40e8-a788-c2bcd50d9b5c",
   "metadata": {},
   "outputs": [],
   "source": [
    "%timeit pol.sum_horizontal()"
   ]
  },
  {
   "cell_type": "code",
   "execution_count": null,
   "id": "3e0aae31-769f-4525-8efe-e7b1e7b98809",
   "metadata": {},
   "outputs": [],
   "source": [
    "%timeit values.sum(axis=1)"
   ]
  },
  {
   "cell_type": "code",
   "execution_count": null,
   "id": "886deb9e-e149-464a-b654-22756f270ee0",
   "metadata": {},
   "outputs": [],
   "source": []
  },
  {
   "cell_type": "code",
   "execution_count": null,
   "id": "ac1623f8-74ec-4808-887f-ca3bcf9a733c",
   "metadata": {},
   "outputs": [],
   "source": [
    "%timeit df.loc[\"10\"]"
   ]
  },
  {
   "cell_type": "code",
   "execution_count": null,
   "id": "01f5fbb8-ed41-4b19-b4cd-16e46627739d",
   "metadata": {},
   "outputs": [],
   "source": [
    "%timeit pdf.iloc[10]"
   ]
  },
  {
   "cell_type": "code",
   "execution_count": null,
   "id": "7d5e6beb-bf01-412c-a768-6cd61f611369",
   "metadata": {},
   "outputs": [],
   "source": [
    "%timeit pol.row(10)"
   ]
  },
  {
   "cell_type": "code",
   "execution_count": null,
   "id": "90b4cb0a-5028-4af7-b9ee-89866e8f1c3d",
   "metadata": {},
   "outputs": [],
   "source": []
  },
  {
   "cell_type": "code",
   "execution_count": null,
   "id": "e8ba68e4-0bcf-4b9a-a9e1-60585f9e9f9e",
   "metadata": {},
   "outputs": [],
   "source": [
    "%timeit pol.select(\"10\")"
   ]
  },
  {
   "cell_type": "code",
   "execution_count": null,
   "id": "546f485e-f388-44ad-938a-b643fbe4b06c",
   "metadata": {},
   "outputs": [],
   "source": [
    "%timeit pdf.loc[\"10\"]"
   ]
  },
  {
   "cell_type": "code",
   "execution_count": null,
   "id": "5ac7bdf2-dc87-4f43-8ae8-ea48c65ae014",
   "metadata": {},
   "outputs": [],
   "source": []
  },
  {
   "cell_type": "code",
   "execution_count": 30,
   "id": "f68864ff-aaf9-423e-84c4-7756395111f1",
   "metadata": {},
   "outputs": [
    {
     "name": "stdout",
     "output_type": "stream",
     "text": [
      "13.4 μs ± 455 ns per loop (mean ± std. dev. of 7 runs, 100,000 loops each)\n"
     ]
    }
   ],
   "source": [
    "%timeit df.iloc[2:]#.iloc[2]"
   ]
  },
  {
   "cell_type": "code",
   "execution_count": 31,
   "id": "23642367-1953-47a5-9047-acd8c6cdc52d",
   "metadata": {},
   "outputs": [
    {
     "name": "stdout",
     "output_type": "stream",
     "text": [
      "4.34 μs ± 294 ns per loop (mean ± std. dev. of 7 runs, 100,000 loops each)\n"
     ]
    }
   ],
   "source": [
    "%timeit sdf.iloc[2:]#.iloc[2]"
   ]
  },
  {
   "cell_type": "code",
   "execution_count": null,
   "id": "c44b954b-c6fd-41b1-8791-7d65aba3fe49",
   "metadata": {},
   "outputs": [],
   "source": []
  },
  {
   "cell_type": "code",
   "execution_count": null,
   "id": "95597c13-d68f-4fad-a7c4-3c85f3ac28cc",
   "metadata": {},
   "outputs": [],
   "source": []
  }
 ],
 "metadata": {
  "kernelspec": {
   "display_name": "Python 3 (ipykernel)",
   "language": "python",
   "name": "python3"
  },
  "language_info": {
   "codemirror_mode": {
    "name": "ipython",
    "version": 3
   },
   "file_extension": ".py",
   "mimetype": "text/x-python",
   "name": "python",
   "nbconvert_exporter": "python",
   "pygments_lexer": "ipython3",
   "version": "3.12.3"
  }
 },
 "nbformat": 4,
 "nbformat_minor": 5
}

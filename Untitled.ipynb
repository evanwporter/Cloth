{
 "cells": [
  {
   "cell_type": "code",
   "execution_count": null,
   "id": "ce0c0410-c8b2-4dd3-beb7-becc633611e7",
   "metadata": {},
   "outputs": [],
   "source": [
    "import numpy as np\n",
    "# from sloth import DataFrame\n",
    "import pandas as pd\n",
    "# import Sloth as sl"
   ]
  },
  {
   "cell_type": "code",
   "execution_count": null,
   "id": "7ba80ed9-563a-47cd-b8c6-aa65b19101ff",
   "metadata": {},
   "outputs": [],
   "source": []
  },
  {
   "cell_type": "code",
   "execution_count": null,
   "id": "7c7d0962-b3c6-411f-a8e7-b568404e3b41",
   "metadata": {},
   "outputs": [],
   "source": [
    "values = np.array([\n",
    "    [1.0, 2.0, 3.0],\n",
    "    [4.0, 5.0, 6.0],\n",
    "    [7.0, 8.0, 9.0]\n",
    "])\n",
    "\n",
    "index_np = np.array([\"row1\", \"row2\", \"row3\"])\n",
    "columns_np = np.array([\"col1\", \"col2\", \"col3\"])\n",
    "\n",
    "# Create DataFrame with NumPy arrays\n",
    "# df = DataFrame(values, index_np, columns_np)\n",
    "\n",
    "pdf = pd.DataFrame(values, index_np, columns_np)"
   ]
  },
  {
   "cell_type": "code",
   "execution_count": null,
   "id": "809dcd21-ec88-4e10-87e1-617aaba7bd9f",
   "metadata": {},
   "outputs": [],
   "source": [
    "pdf.col1"
   ]
  },
  {
   "cell_type": "code",
   "execution_count": null,
   "id": "3e0aae31-769f-4525-8efe-e7b1e7b98809",
   "metadata": {},
   "outputs": [],
   "source": [
    "%timeit values.sum(axis=1)"
   ]
  },
  {
   "cell_type": "code",
   "execution_count": null,
   "id": "886deb9e-e149-464a-b654-22756f270ee0",
   "metadata": {},
   "outputs": [],
   "source": []
  },
  {
   "cell_type": "code",
   "execution_count": null,
   "id": "ac1623f8-74ec-4808-887f-ca3bcf9a733c",
   "metadata": {},
   "outputs": [],
   "source": [
    "%timeit pdf.sum(axis=1)"
   ]
  },
  {
   "cell_type": "code",
   "execution_count": null,
   "id": "76bac5c7-1177-45bd-8414-fd59115105be",
   "metadata": {},
   "outputs": [],
   "source": []
  },
  {
   "cell_type": "code",
   "execution_count": null,
   "id": "a548983d-c6b7-434f-b14c-ae7070c89e50",
   "metadata": {},
   "outputs": [],
   "source": []
  },
  {
   "cell_type": "code",
   "execution_count": null,
   "id": "4d996495-cd26-4866-83cd-5837010bc17c",
   "metadata": {},
   "outputs": [],
   "source": [
    "my_slice = cloth.slice(0, 10, 2)"
   ]
  },
  {
   "cell_type": "code",
   "execution_count": null,
   "id": "b7041019-2261-4eb7-bb18-6b2b14fae6b5",
   "metadata": {},
   "outputs": [],
   "source": [
    "cloth.ColumnIndex(keys).index"
   ]
  },
  {
   "cell_type": "code",
   "execution_count": null,
   "id": "d9d3c59c-acf0-4cee-bd82-ff8df5d4386d",
   "metadata": {},
   "outputs": [],
   "source": [
    "cloth.ObjectIndex(keys).index"
   ]
  },
  {
   "cell_type": "code",
   "execution_count": null,
   "id": "98577394-d8c0-4058-bc46-f9c68888a953",
   "metadata": {},
   "outputs": [],
   "source": [
    "import cloth\n",
    "import numpy as np\n",
    "\n",
    "index_map = {\"item1\": 0, \"item2\": 1, \"item3\": 2}\n",
    "keys = [\"item1\", \"item2\", \"item3\"]\n",
    "s = cloth.Series(np.array([0, 1, 2]), keys)\n",
    "s"
   ]
  },
  {
   "cell_type": "code",
   "execution_count": null,
   "id": "9d138a4c-0782-4f3f-8f6a-0f28d18fc742",
   "metadata": {},
   "outputs": [],
   "source": [
    "t = s.iloc[0:2]\n",
    "t"
   ]
  },
  {
   "cell_type": "code",
   "execution_count": null,
   "id": "bb4c95d4-5bb2-40eb-bae8-2247aa1ba973",
   "metadata": {},
   "outputs": [],
   "source": [
    "t.mask.length"
   ]
  },
  {
   "cell_type": "code",
   "execution_count": null,
   "id": "288d47d6-fedf-42ea-a839-db8408ffc488",
   "metadata": {},
   "outputs": [],
   "source": [
    "t.length()"
   ]
  },
  {
   "cell_type": "code",
   "execution_count": null,
   "id": "1b6653b9-49b2-4020-a748-88cac1623391",
   "metadata": {},
   "outputs": [],
   "source": [
    "s.mask.length"
   ]
  },
  {
   "cell_type": "code",
   "execution_count": null,
   "id": "e1ba5116-409e-40d1-838e-e1cc78ccd0a6",
   "metadata": {},
   "outputs": [],
   "source": [
    "t.values"
   ]
  },
  {
   "cell_type": "code",
   "execution_count": null,
   "id": "2d0de342-59f4-4ecb-b18f-49947e644232",
   "metadata": {},
   "outputs": [],
   "source": [
    "t.mask"
   ]
  },
  {
   "cell_type": "code",
   "execution_count": null,
   "id": "db5d13d2-7749-4690-ba41-5919a790655b",
   "metadata": {},
   "outputs": [],
   "source": [
    "t.mask.stop"
   ]
  },
  {
   "cell_type": "code",
   "execution_count": 1,
   "id": "7d81a940-de40-4734-8bf9-bd3c4df3d629",
   "metadata": {},
   "outputs": [],
   "source": []
  },
  {
   "cell_type": "code",
   "execution_count": 2,
   "id": "1fdcbd68-260c-4656-a804-6b7ac765e1f6",
   "metadata": {},
   "outputs": [
    {
     "ename": "NameError",
     "evalue": "name 'np' is not defined",
     "output_type": "error",
     "traceback": [
      "\u001b[1;31m---------------------------------------------------------------------------\u001b[0m",
      "\u001b[1;31mNameError\u001b[0m                                 Traceback (most recent call last)",
      "Cell \u001b[1;32mIn[2], line 1\u001b[0m\n\u001b[1;32m----> 1\u001b[0m data \u001b[38;5;241m=\u001b[39m \u001b[43mnp\u001b[49m\u001b[38;5;241m.\u001b[39marray([\n\u001b[0;32m      2\u001b[0m     [\u001b[38;5;241m1.0\u001b[39m, \u001b[38;5;241m2.0\u001b[39m, \u001b[38;5;241m3.0\u001b[39m],\n\u001b[0;32m      3\u001b[0m     [\u001b[38;5;241m4.0\u001b[39m, \u001b[38;5;241m5.0\u001b[39m, \u001b[38;5;241m6.0\u001b[39m],\n\u001b[0;32m      4\u001b[0m     [\u001b[38;5;241m7.0\u001b[39m, \u001b[38;5;241m8.0\u001b[39m, \u001b[38;5;241m9.0\u001b[39m]\n\u001b[0;32m      5\u001b[0m ])\n\u001b[0;32m      7\u001b[0m index \u001b[38;5;241m=\u001b[39m [\u001b[38;5;124m'\u001b[39m\u001b[38;5;124mrow1\u001b[39m\u001b[38;5;124m'\u001b[39m, \u001b[38;5;124m'\u001b[39m\u001b[38;5;124mrow2\u001b[39m\u001b[38;5;124m'\u001b[39m, \u001b[38;5;124m'\u001b[39m\u001b[38;5;124mrow3\u001b[39m\u001b[38;5;124m'\u001b[39m]\n\u001b[0;32m      8\u001b[0m columns \u001b[38;5;241m=\u001b[39m [\u001b[38;5;124m'\u001b[39m\u001b[38;5;124mcol1\u001b[39m\u001b[38;5;124m'\u001b[39m, \u001b[38;5;124m'\u001b[39m\u001b[38;5;124mcol2\u001b[39m\u001b[38;5;124m'\u001b[39m, \u001b[38;5;124m'\u001b[39m\u001b[38;5;124mcol3\u001b[39m\u001b[38;5;124m'\u001b[39m]\n",
      "\u001b[1;31mNameError\u001b[0m: name 'np' is not defined"
     ]
    }
   ],
   "source": [
    "import cloth\n",
    "import numpy as np\n",
    "data = np.array([\n",
    "    [1.0, 2.0, 3.0],\n",
    "    [4.0, 5.0, 6.0],\n",
    "    [7.0, 8.0, 9.0]\n",
    "])\n",
    "\n",
    "index = ['row1', 'row2', 'row3']\n",
    "columns = ['col1', 'col2', 'col3']"
   ]
  },
  {
   "cell_type": "code",
   "execution_count": 3,
   "id": "cd9f5fc9-95cc-467a-85e7-bad658f09097",
   "metadata": {},
   "outputs": [
    {
     "ename": "NameError",
     "evalue": "name 'data' is not defined",
     "output_type": "error",
     "traceback": [
      "\u001b[1;31m---------------------------------------------------------------------------\u001b[0m",
      "\u001b[1;31mNameError\u001b[0m                                 Traceback (most recent call last)",
      "Cell \u001b[1;32mIn[3], line 1\u001b[0m\n\u001b[1;32m----> 1\u001b[0m df \u001b[38;5;241m=\u001b[39m cloth\u001b[38;5;241m.\u001b[39mDataFrame(\u001b[43mdata\u001b[49m, index, columns)\n\u001b[0;32m      2\u001b[0m df\u001b[38;5;241m.\u001b[39mvalues\n",
      "\u001b[1;31mNameError\u001b[0m: name 'data' is not defined"
     ]
    }
   ],
   "source": [
    "df = cloth.DataFrame(data, index, columns)\n",
    "df.values"
   ]
  },
  {
   "cell_type": "code",
   "execution_count": null,
   "id": "c60e9beb-9702-43dc-b6ac-bde93e83a5d0",
   "metadata": {},
   "outputs": [],
   "source": [
    "df.iloc[1:].values"
   ]
  },
  {
   "cell_type": "code",
   "execution_count": null,
   "id": "e8064824-fb61-4106-b47b-e8198478f1ba",
   "metadata": {},
   "outputs": [],
   "source": [
    "df.iloc[0].values"
   ]
  },
  {
   "cell_type": "code",
   "execution_count": null,
   "id": "5c443c1e-dff8-4645-966c-339245f9f3ff",
   "metadata": {},
   "outputs": [],
   "source": [
    "s.values()"
   ]
  },
  {
   "cell_type": "code",
   "execution_count": null,
   "id": "bc15a313-c5ba-418a-aa18-82bdbb3afe62",
   "metadata": {},
   "outputs": [],
   "source": []
  }
 ],
 "metadata": {
  "kernelspec": {
   "display_name": "Python 3 (ipykernel)",
   "language": "python",
   "name": "python3"
  },
  "language_info": {
   "codemirror_mode": {
    "name": "ipython",
    "version": 3
   },
   "file_extension": ".py",
   "mimetype": "text/x-python",
   "name": "python",
   "nbconvert_exporter": "python",
   "pygments_lexer": "ipython3",
   "version": "3.12.3"
  }
 },
 "nbformat": 4,
 "nbformat_minor": 5
}

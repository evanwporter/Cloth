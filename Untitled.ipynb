{
 "cells": [
  {
   "cell_type": "code",
   "execution_count": 10,
   "id": "ce0c0410-c8b2-4dd3-beb7-becc633611e7",
   "metadata": {},
   "outputs": [],
   "source": [
    "import numpy as np\n",
    "# from sloth import DataFrame\n",
    "import pandas as pd\n",
    "# import Sloth as sl"
   ]
  },
  {
   "cell_type": "code",
   "execution_count": null,
   "id": "7ba80ed9-563a-47cd-b8c6-aa65b19101ff",
   "metadata": {},
   "outputs": [],
   "source": []
  },
  {
   "cell_type": "code",
   "execution_count": null,
   "id": "7c7d0962-b3c6-411f-a8e7-b568404e3b41",
   "metadata": {},
   "outputs": [],
   "source": [
    "values = np.array([\n",
    "    [1.0, 2.0, 3.0],\n",
    "    [4.0, 5.0, 6.0],\n",
    "    [7.0, 8.0, 9.0]\n",
    "])\n",
    "\n",
    "index_np = np.array([\"row1\", \"row2\", \"row3\"])\n",
    "columns_np = np.array([\"col1\", \"col2\", \"col3\"])\n",
    "\n",
    "# Create DataFrame with NumPy arrays\n",
    "# df = DataFrame(values, index_np, columns_np)\n",
    "\n",
    "pdf = pd.DataFrame(values, index_np, columns_np)"
   ]
  },
  {
   "cell_type": "code",
   "execution_count": null,
   "id": "809dcd21-ec88-4e10-87e1-617aaba7bd9f",
   "metadata": {},
   "outputs": [],
   "source": [
    "pdf.col1"
   ]
  },
  {
   "cell_type": "code",
   "execution_count": null,
   "id": "3e0aae31-769f-4525-8efe-e7b1e7b98809",
   "metadata": {},
   "outputs": [],
   "source": [
    "%timeit values.sum(axis=1)"
   ]
  },
  {
   "cell_type": "code",
   "execution_count": null,
   "id": "886deb9e-e149-464a-b654-22756f270ee0",
   "metadata": {},
   "outputs": [],
   "source": []
  },
  {
   "cell_type": "code",
   "execution_count": null,
   "id": "ac1623f8-74ec-4808-887f-ca3bcf9a733c",
   "metadata": {},
   "outputs": [],
   "source": [
    "%timeit pdf.sum(axis=1)"
   ]
  },
  {
   "cell_type": "code",
   "execution_count": null,
   "id": "76bac5c7-1177-45bd-8414-fd59115105be",
   "metadata": {},
   "outputs": [],
   "source": []
  },
  {
   "cell_type": "code",
   "execution_count": 1,
   "id": "a548983d-c6b7-434f-b14c-ae7070c89e50",
   "metadata": {},
   "outputs": [],
   "source": [
    "import cloth\n",
    "import numpy as np"
   ]
  },
  {
   "cell_type": "code",
   "execution_count": 2,
   "id": "4d996495-cd26-4866-83cd-5837010bc17c",
   "metadata": {},
   "outputs": [],
   "source": [
    "my_slice = cloth.slice(0, 10, 2)"
   ]
  },
  {
   "cell_type": "code",
   "execution_count": 3,
   "id": "98577394-d8c0-4058-bc46-f9c68888a953",
   "metadata": {},
   "outputs": [],
   "source": [
    "index_map = {\"item1\": 0, \"item2\": 1, \"item3\": 2}\n",
    "keys = [\"item1\", \"item2\", \"item3\"]"
   ]
  },
  {
   "cell_type": "code",
   "execution_count": 4,
   "id": "d9d3c59c-acf0-4cee-bd82-ff8df5d4386d",
   "metadata": {},
   "outputs": [
    {
     "data": {
      "text/plain": [
       "['item1', 'item2', 'item3']"
      ]
     },
     "execution_count": 4,
     "metadata": {},
     "output_type": "execute_result"
    }
   ],
   "source": [
    "cloth.ObjectIndex(keys).index"
   ]
  },
  {
   "cell_type": "code",
   "execution_count": 5,
   "id": "b7041019-2261-4eb7-bb18-6b2b14fae6b5",
   "metadata": {},
   "outputs": [
    {
     "data": {
      "text/plain": [
       "['item1', 'item2', 'item3']"
      ]
     },
     "execution_count": 5,
     "metadata": {},
     "output_type": "execute_result"
    }
   ],
   "source": [
    "cloth.ColumnIndex(keys).index"
   ]
  },
  {
   "cell_type": "code",
   "execution_count": 6,
   "id": "e1def88f-78c4-41c7-85e5-7b85db6c47bf",
   "metadata": {},
   "outputs": [
    {
     "data": {
      "text/plain": [
       "item1    0\n",
       "item2    1\n",
       "item3    2"
      ]
     },
     "execution_count": 6,
     "metadata": {},
     "output_type": "execute_result"
    }
   ],
   "source": [
    "s = cloth.Series(np.array([0, 1, 2]), keys)\n",
    "s"
   ]
  },
  {
   "cell_type": "code",
   "execution_count": 7,
   "id": "9d138a4c-0782-4f3f-8f6a-0f28d18fc742",
   "metadata": {},
   "outputs": [
    {
     "data": {
      "text/plain": [
       "Series::view with length: 2\n",
       "Mask start: 0, stop: 2\n",
       "Index: [item1, item2]"
      ]
     },
     "execution_count": 7,
     "metadata": {},
     "output_type": "execute_result"
    }
   ],
   "source": [
    "t = s.iloc[0:2]\n",
    "t"
   ]
  },
  {
   "cell_type": "code",
   "execution_count": 8,
   "id": "bb4c95d4-5bb2-40eb-bae8-2247aa1ba973",
   "metadata": {},
   "outputs": [
    {
     "data": {
      "text/plain": [
       "2"
      ]
     },
     "execution_count": 8,
     "metadata": {},
     "output_type": "execute_result"
    }
   ],
   "source": [
    "t.mask.length"
   ]
  },
  {
   "cell_type": "code",
   "execution_count": 9,
   "id": "288d47d6-fedf-42ea-a839-db8408ffc488",
   "metadata": {},
   "outputs": [
    {
     "data": {
      "text/plain": [
       "2"
      ]
     },
     "execution_count": 9,
     "metadata": {},
     "output_type": "execute_result"
    }
   ],
   "source": [
    "t.length()"
   ]
  },
  {
   "cell_type": "code",
   "execution_count": 10,
   "id": "1b6653b9-49b2-4020-a748-88cac1623391",
   "metadata": {},
   "outputs": [
    {
     "data": {
      "text/plain": [
       "3"
      ]
     },
     "execution_count": 10,
     "metadata": {},
     "output_type": "execute_result"
    }
   ],
   "source": [
    "s.mask.length"
   ]
  },
  {
   "cell_type": "code",
   "execution_count": 11,
   "id": "e1ba5116-409e-40d1-838e-e1cc78ccd0a6",
   "metadata": {},
   "outputs": [
    {
     "data": {
      "text/plain": [
       "array([0., 1.])"
      ]
     },
     "execution_count": 11,
     "metadata": {},
     "output_type": "execute_result"
    }
   ],
   "source": [
    "t.values"
   ]
  },
  {
   "cell_type": "code",
   "execution_count": 12,
   "id": "d8ac39d7-c8c7-47f5-aaa6-b6d58da51f1e",
   "metadata": {},
   "outputs": [
    {
     "ename": "AttributeError",
     "evalue": "'cloth.cloth.SeriesView' object has no attribute 'size'",
     "output_type": "error",
     "traceback": [
      "\u001b[1;31m---------------------------------------------------------------------------\u001b[0m",
      "\u001b[1;31mAttributeError\u001b[0m                            Traceback (most recent call last)",
      "Cell \u001b[1;32mIn[12], line 1\u001b[0m\n\u001b[1;32m----> 1\u001b[0m \u001b[43mt\u001b[49m\u001b[38;5;241;43m.\u001b[39;49m\u001b[43msize\u001b[49m()\n",
      "\u001b[1;31mAttributeError\u001b[0m: 'cloth.cloth.SeriesView' object has no attribute 'size'"
     ]
    }
   ],
   "source": [
    "t.size()"
   ]
  },
  {
   "cell_type": "code",
   "execution_count": null,
   "id": "2d0de342-59f4-4ecb-b18f-49947e644232",
   "metadata": {},
   "outputs": [],
   "source": [
    "t.mask"
   ]
  },
  {
   "cell_type": "code",
   "execution_count": null,
   "id": "db5d13d2-7749-4690-ba41-5919a790655b",
   "metadata": {},
   "outputs": [],
   "source": [
    "t.mask.stop"
   ]
  },
  {
   "cell_type": "code",
   "execution_count": null,
   "id": "7d81a940-de40-4734-8bf9-bd3c4df3d629",
   "metadata": {},
   "outputs": [],
   "source": [
    "import cloth"
   ]
  },
  {
   "cell_type": "code",
   "execution_count": null,
   "id": "1fdcbd68-260c-4656-a804-6b7ac765e1f6",
   "metadata": {},
   "outputs": [],
   "source": [
    "data = [\n",
    "    [1.0, 2.0, 3.0],\n",
    "    [4.0, 5.0, 6.0],\n",
    "    [7.0, 8.0, 9.0]\n",
    "]\n",
    "\n",
    "index = ['row1', 'row2', 'row3']\n",
    "columns = ['col1', 'col2', 'col3']"
   ]
  },
  {
   "cell_type": "code",
   "execution_count": null,
   "id": "cd9f5fc9-95cc-467a-85e7-bad658f09097",
   "metadata": {},
   "outputs": [],
   "source": [
    "df = cloth.DataFrame(data, index, columns)"
   ]
  },
  {
   "cell_type": "code",
   "execution_count": null,
   "id": "e8064824-fb61-4106-b47b-e8198478f1ba",
   "metadata": {},
   "outputs": [],
   "source": [
    "df.iloc[0]"
   ]
  },
  {
   "cell_type": "code",
   "execution_count": null,
   "id": "c60e9beb-9702-43dc-b6ac-bde93e83a5d0",
   "metadata": {},
   "outputs": [],
   "source": [
    "s"
   ]
  },
  {
   "cell_type": "code",
   "execution_count": null,
   "id": "5c443c1e-dff8-4645-966c-339245f9f3ff",
   "metadata": {},
   "outputs": [],
   "source": [
    "s.values()"
   ]
  },
  {
   "cell_type": "code",
   "execution_count": null,
   "id": "bc15a313-c5ba-418a-aa18-82bdbb3afe62",
   "metadata": {},
   "outputs": [],
   "source": []
  }
 ],
 "metadata": {
  "kernelspec": {
   "display_name": "Python 3 (ipykernel)",
   "language": "python",
   "name": "python3"
  },
  "language_info": {
   "codemirror_mode": {
    "name": "ipython",
    "version": 3
   },
   "file_extension": ".py",
   "mimetype": "text/x-python",
   "name": "python",
   "nbconvert_exporter": "python",
   "pygments_lexer": "ipython3",
   "version": "3.12.3"
  }
 },
 "nbformat": 4,
 "nbformat_minor": 5
}
